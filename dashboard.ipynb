{
 "cells": [
  {
   "cell_type": "raw",
   "metadata": {},
   "source": [
    "---\n",
    "title: Finance dashboard\n",
    "description: Dashboard with financial data\n",
    "show-code: False\n",
    "params:\n",
    "    ticker: \n",
    "        input: select\n",
    "        value: TSLA\n",
    "        label: Select ticker\n",
    "        choices: [TSLA, COIN, MSFT, PLTR, SNOW, NFLX]\n",
    "---"
   ]
  },
  {
   "cell_type": "code",
   "execution_count": 2,
   "metadata": {},
   "outputs": [],
   "source": [
    "import yfinance as yf\n",
    "import mplfinance as mpf"
   ]
  },
  {
   "cell_type": "markdown",
   "metadata": {},
   "source": [
    "# Historic stock price 📈"
   ]
  },
  {
   "cell_type": "code",
   "execution_count": 3,
   "metadata": {},
   "outputs": [],
   "source": [
    "ticker = \"TSLA\""
   ]
  },
  {
   "cell_type": "code",
   "execution_count": 4,
   "metadata": {},
   "outputs": [
    {
     "name": "stdout",
     "output_type": "stream",
     "text": [
      "Selected ticker: TSLA\n"
     ]
    }
   ],
   "source": [
    "print(f\"Selected ticker: {ticker}\")"
   ]
  },
  {
   "cell_type": "code",
   "execution_count": 5,
   "metadata": {},
   "outputs": [],
   "source": [
    "history = yf.Ticker(ticker).history(period=\"3mo\")"
   ]
  },
  {
   "cell_type": "code",
   "execution_count": 6,
   "metadata": {},
   "outputs": [
    {
     "name": "stdout",
     "output_type": "stream",
     "text": [
      "3 months low: 108\n",
      "3 months high: 275\n"
     ]
    }
   ],
   "source": [
    "print(f\"3 months low: {history.Low.min().astype(int)}\")\n",
    "print(f\"3 months high: {history.High.max().astype(int)}\")"
   ]
  },
  {
   "cell_type": "code",
   "execution_count": 6,
   "metadata": {},
   "outputs": [
    {
     "data": {
      "text/html": [
       "<div>\n",
       "<style scoped>\n",
       "    .dataframe tbody tr th:only-of-type {\n",
       "        vertical-align: middle;\n",
       "    }\n",
       "\n",
       "    .dataframe tbody tr th {\n",
       "        vertical-align: top;\n",
       "    }\n",
       "\n",
       "    .dataframe thead th {\n",
       "        text-align: right;\n",
       "    }\n",
       "</style>\n",
       "<table border=\"1\" class=\"dataframe\">\n",
       "  <thead>\n",
       "    <tr style=\"text-align: right;\">\n",
       "      <th></th>\n",
       "      <th>Open</th>\n",
       "      <th>High</th>\n",
       "      <th>Low</th>\n",
       "      <th>Close</th>\n",
       "      <th>Volume</th>\n",
       "      <th>Dividends</th>\n",
       "      <th>Stock Splits</th>\n",
       "    </tr>\n",
       "    <tr>\n",
       "      <th>Date</th>\n",
       "      <th></th>\n",
       "      <th></th>\n",
       "      <th></th>\n",
       "      <th></th>\n",
       "      <th></th>\n",
       "      <th></th>\n",
       "      <th></th>\n",
       "    </tr>\n",
       "  </thead>\n",
       "  <tbody>\n",
       "    <tr>\n",
       "      <th>2022-06-06</th>\n",
       "      <td>733.059998</td>\n",
       "      <td>734.599976</td>\n",
       "      <td>703.049988</td>\n",
       "      <td>714.840027</td>\n",
       "      <td>28068200</td>\n",
       "      <td>0</td>\n",
       "      <td>0</td>\n",
       "    </tr>\n",
       "    <tr>\n",
       "      <th>2022-06-07</th>\n",
       "      <td>702.000000</td>\n",
       "      <td>719.989990</td>\n",
       "      <td>690.280029</td>\n",
       "      <td>716.659973</td>\n",
       "      <td>24269500</td>\n",
       "      <td>0</td>\n",
       "      <td>0</td>\n",
       "    </tr>\n",
       "    <tr>\n",
       "      <th>2022-06-08</th>\n",
       "      <td>720.260010</td>\n",
       "      <td>749.890015</td>\n",
       "      <td>717.530029</td>\n",
       "      <td>725.599976</td>\n",
       "      <td>25403500</td>\n",
       "      <td>0</td>\n",
       "      <td>0</td>\n",
       "    </tr>\n",
       "    <tr>\n",
       "      <th>2022-06-09</th>\n",
       "      <td>748.020020</td>\n",
       "      <td>766.640015</td>\n",
       "      <td>717.979980</td>\n",
       "      <td>719.119995</td>\n",
       "      <td>32163800</td>\n",
       "      <td>0</td>\n",
       "      <td>0</td>\n",
       "    </tr>\n",
       "    <tr>\n",
       "      <th>2022-06-10</th>\n",
       "      <td>705.469971</td>\n",
       "      <td>718.500000</td>\n",
       "      <td>683.739990</td>\n",
       "      <td>696.690002</td>\n",
       "      <td>32512200</td>\n",
       "      <td>0</td>\n",
       "      <td>0</td>\n",
       "    </tr>\n",
       "  </tbody>\n",
       "</table>\n",
       "</div>"
      ],
      "text/plain": [
       "                  Open        High         Low       Close    Volume  \\\n",
       "Date                                                                   \n",
       "2022-06-06  733.059998  734.599976  703.049988  714.840027  28068200   \n",
       "2022-06-07  702.000000  719.989990  690.280029  716.659973  24269500   \n",
       "2022-06-08  720.260010  749.890015  717.530029  725.599976  25403500   \n",
       "2022-06-09  748.020020  766.640015  717.979980  719.119995  32163800   \n",
       "2022-06-10  705.469971  718.500000  683.739990  696.690002  32512200   \n",
       "\n",
       "            Dividends  Stock Splits  \n",
       "Date                                 \n",
       "2022-06-06          0             0  \n",
       "2022-06-07          0             0  \n",
       "2022-06-08          0             0  \n",
       "2022-06-09          0             0  \n",
       "2022-06-10          0             0  "
      ]
     },
     "execution_count": 6,
     "metadata": {},
     "output_type": "execute_result"
    }
   ],
   "source": [
    "history.tail()"
   ]
  },
  {
   "cell_type": "code",
   "execution_count": 7,
   "metadata": {},
   "outputs": [
    {
     "data": {
      "text/html": [
       "<div>\n",
       "<style scoped>\n",
       "    .dataframe tbody tr th:only-of-type {\n",
       "        vertical-align: middle;\n",
       "    }\n",
       "\n",
       "    .dataframe tbody tr th {\n",
       "        vertical-align: top;\n",
       "    }\n",
       "\n",
       "    .dataframe thead th {\n",
       "        text-align: right;\n",
       "    }\n",
       "</style>\n",
       "<table border=\"1\" class=\"dataframe\">\n",
       "  <thead>\n",
       "    <tr style=\"text-align: right;\">\n",
       "      <th></th>\n",
       "      <th>Open</th>\n",
       "      <th>High</th>\n",
       "      <th>Low</th>\n",
       "      <th>Close</th>\n",
       "      <th>Volume</th>\n",
       "      <th>Dividends</th>\n",
       "      <th>Stock Splits</th>\n",
       "    </tr>\n",
       "    <tr>\n",
       "      <th>Date</th>\n",
       "      <th></th>\n",
       "      <th></th>\n",
       "      <th></th>\n",
       "      <th></th>\n",
       "      <th></th>\n",
       "      <th></th>\n",
       "      <th></th>\n",
       "    </tr>\n",
       "  </thead>\n",
       "  <tbody>\n",
       "    <tr>\n",
       "      <th>2022-09-30 00:00:00-04:00</th>\n",
       "      <td>266.149994</td>\n",
       "      <td>275.570007</td>\n",
       "      <td>262.470001</td>\n",
       "      <td>265.250000</td>\n",
       "      <td>67726600</td>\n",
       "      <td>0.0</td>\n",
       "      <td>0.0</td>\n",
       "    </tr>\n",
       "    <tr>\n",
       "      <th>2022-10-03 00:00:00-04:00</th>\n",
       "      <td>254.500000</td>\n",
       "      <td>255.160004</td>\n",
       "      <td>241.009995</td>\n",
       "      <td>242.399994</td>\n",
       "      <td>98363500</td>\n",
       "      <td>0.0</td>\n",
       "      <td>0.0</td>\n",
       "    </tr>\n",
       "    <tr>\n",
       "      <th>2022-10-04 00:00:00-04:00</th>\n",
       "      <td>250.520004</td>\n",
       "      <td>257.500000</td>\n",
       "      <td>242.009995</td>\n",
       "      <td>249.440002</td>\n",
       "      <td>109578500</td>\n",
       "      <td>0.0</td>\n",
       "      <td>0.0</td>\n",
       "    </tr>\n",
       "    <tr>\n",
       "      <th>2022-10-05 00:00:00-04:00</th>\n",
       "      <td>245.009995</td>\n",
       "      <td>246.669998</td>\n",
       "      <td>233.270004</td>\n",
       "      <td>240.809998</td>\n",
       "      <td>86982700</td>\n",
       "      <td>0.0</td>\n",
       "      <td>0.0</td>\n",
       "    </tr>\n",
       "    <tr>\n",
       "      <th>2022-10-06 00:00:00-04:00</th>\n",
       "      <td>239.440002</td>\n",
       "      <td>244.580002</td>\n",
       "      <td>235.350006</td>\n",
       "      <td>238.130005</td>\n",
       "      <td>69298400</td>\n",
       "      <td>0.0</td>\n",
       "      <td>0.0</td>\n",
       "    </tr>\n",
       "  </tbody>\n",
       "</table>\n",
       "</div>"
      ],
      "text/plain": [
       "                                 Open        High         Low       Close  \\\n",
       "Date                                                                        \n",
       "2022-09-30 00:00:00-04:00  266.149994  275.570007  262.470001  265.250000   \n",
       "2022-10-03 00:00:00-04:00  254.500000  255.160004  241.009995  242.399994   \n",
       "2022-10-04 00:00:00-04:00  250.520004  257.500000  242.009995  249.440002   \n",
       "2022-10-05 00:00:00-04:00  245.009995  246.669998  233.270004  240.809998   \n",
       "2022-10-06 00:00:00-04:00  239.440002  244.580002  235.350006  238.130005   \n",
       "\n",
       "                              Volume  Dividends  Stock Splits  \n",
       "Date                                                           \n",
       "2022-09-30 00:00:00-04:00   67726600        0.0           0.0  \n",
       "2022-10-03 00:00:00-04:00   98363500        0.0           0.0  \n",
       "2022-10-04 00:00:00-04:00  109578500        0.0           0.0  \n",
       "2022-10-05 00:00:00-04:00   86982700        0.0           0.0  \n",
       "2022-10-06 00:00:00-04:00   69298400        0.0           0.0  "
      ]
     },
     "execution_count": 7,
     "metadata": {},
     "output_type": "execute_result"
    }
   ],
   "source": [
    "history.head()"
   ]
  },
  {
   "cell_type": "code",
   "execution_count": 8,
   "metadata": {},
   "outputs": [
    {
     "data": {
      "image/png": "[encoded data removed]",
      "text/plain": [
       "<Figure size 1035x575 with 2 Axes>"
      ]
     },
     "metadata": {},
     "output_type": "display_data"
    }
   ],
   "source": [
    "mpf.plot(history, type='candle', mav=(7),figratio=(18,10))"
   ]
  },
  {
   "cell_type": "code",
   "execution_count": null,
   "metadata": {},
   "outputs": [],
   "source": []
  },
  {
   "cell_type": "code",
   "execution_count": null,
   "metadata": {},
   "outputs": [],
   "source": []
  }
 ],
 "metadata": {
  "kernelspec": {
   "display_name": "Python 3 (ipykernel)",
   "language": "python",
   "name": "python3"
  },
  "language_info": {
   "codemirror_mode": {
    "name": "ipython",
    "version": 3
   },
   "file_extension": ".py",
   "mimetype": "text/x-python",
   "name": "python",
   "nbconvert_exporter": "python",
   "pygments_lexer": "ipython3",
   "version": "3.10.7"
  }
 },
 "nbformat": 4,
 "nbformat_minor": 4
}
